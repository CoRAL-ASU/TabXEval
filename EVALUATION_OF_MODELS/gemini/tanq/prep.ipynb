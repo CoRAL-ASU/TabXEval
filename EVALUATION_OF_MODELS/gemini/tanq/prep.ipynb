{
 "cells": [
  {
   "cell_type": "code",
   "execution_count": 1,
   "metadata": {},
   "outputs": [],
   "source": [
    "import json \n",
    "data = json.load(open(\"/home/turning/Jainit/TANQ/EVALUATION_OF_MODELS/gemini/tanq/oracle_gemini_results.json\"))"
   ]
  },
  {
   "cell_type": "code",
   "execution_count": 3,
   "metadata": {},
   "outputs": [],
   "source": [
    "id_to_initqid = {}\n",
    "prep_data = {}\n",
    "for idx, d in enumerate(data):\n",
    "    id_to_initqid[d['init_qid']] = idx\n",
    "    prep_data[idx] = [d['answer_table'], d['predicted_table']]"
   ]
  },
  {
   "cell_type": "code",
   "execution_count": 4,
   "metadata": {},
   "outputs": [],
   "source": [
    "json.dump(prep_data, open(\"/home/turning/Jainit/TANQ/EVALUATION_OF_MODELS/gemini/tanq/oracle_gemini_results_prep.json\", \"w\"))"
   ]
  },
  {
   "cell_type": "code",
   "execution_count": 5,
   "metadata": {},
   "outputs": [],
   "source": [
    "json.dump(id_to_initqid, open(\"/home/turning/Jainit/TANQ/EVALUATION_OF_MODELS/gemini/tanq/id_to_initqid.json\", \"w\"))"
   ]
  },
  {
   "cell_type": "code",
   "execution_count": null,
   "metadata": {},
   "outputs": [],
   "source": []
  }
 ],
 "metadata": {
  "kernelspec": {
   "display_name": "Python 3",
   "language": "python",
   "name": "python3"
  },
  "language_info": {
   "codemirror_mode": {
    "name": "ipython",
    "version": 3
   },
   "file_extension": ".py",
   "mimetype": "text/x-python",
   "name": "python",
   "nbconvert_exporter": "python",
   "pygments_lexer": "ipython3",
   "version": "3.10.12"
  }
 },
 "nbformat": 4,
 "nbformat_minor": 2
}
