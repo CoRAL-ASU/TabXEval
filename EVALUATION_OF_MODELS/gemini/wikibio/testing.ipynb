{
 "cells": [
  {
   "cell_type": "code",
   "execution_count": 1,
   "metadata": {},
   "outputs": [],
   "source": [
    "import json "
   ]
  },
  {
   "cell_type": "code",
   "execution_count": 5,
   "metadata": {},
   "outputs": [],
   "source": [
    "with open(\"/home/turning/Jainit/TANQ/EVALUATION_OF_MODELS/gemini/wikibio/test.data\", \"r\") as f:\n",
    "    data = f.readlines()\n",
    "    "
   ]
  },
  {
   "cell_type": "code",
   "execution_count": 6,
   "metadata": {},
   "outputs": [],
   "source": [
    "text_to_id = {}\n",
    "for i, line in enumerate(data):\n",
    "    text_to_id[i] = line.strip()"
   ]
  },
  {
   "cell_type": "code",
   "execution_count": 7,
   "metadata": {},
   "outputs": [
    {
     "data": {
      "text/plain": [
       "72731"
      ]
     },
     "execution_count": 7,
     "metadata": {},
     "output_type": "execute_result"
    }
   ],
   "source": [
    "len(data)"
   ]
  },
  {
   "cell_type": "code",
   "execution_count": 11,
   "metadata": {},
   "outputs": [
    {
     "data": {
      "text/plain": [
       "72731"
      ]
     },
     "execution_count": 11,
     "metadata": {},
     "output_type": "execute_result"
    }
   ],
   "source": [
    "len(text_to_id)"
   ]
  },
  {
   "cell_type": "code",
   "execution_count": 12,
   "metadata": {},
   "outputs": [],
   "source": [
    "json.dump(text_to_id, open(\"text_to_id.json\", \"w\"))"
   ]
  },
  {
   "cell_type": "code",
   "execution_count": 8,
   "metadata": {},
   "outputs": [
    {
     "name": "stdout",
     "output_type": "stream",
     "text": [
      "Table from Example 1:\n",
      "| Field       | Value              |\n",
      "|:------------|:-------------------|\n",
      "| death place | sheffield, england |\n",
      "| name        | jack reynolds      |\n",
      "| death date  | 12 march 1917      |\n",
      "| birth date  | 21 february 1869   |\n",
      "| fullname    | john reynolds      |\n",
      "\n",
      "Table from Example 2:\n",
      "| Field                     | Value                                                                                                             |\n",
      "|:--------------------------|:------------------------------------------------------------------------------------------------------------------|\n",
      "| name                      | john \"jack\" reynolds                                                                                              |\n",
      "| birth date                | 21 february 1869                                                                                                  |\n",
      "| death date                | 12 march 1917                                                                                                     |\n",
      "| clubs                     | west bromwich albion, aston villa, celtic, southampton                                                            |\n",
      "| international appearances | ireland (5), england (8)                                                                                          |\n",
      "| honours                   | FA Cup (1892 with West Bromwich Albion), English League titles (3 with Aston Villa), FA Cups (2 with Aston Villa) |\n",
      "| death place               | sheffield                                                                                                         |\n"
     ]
    }
   ],
   "source": [
    "import json\n",
    "import re\n",
    "import pandas as pd\n",
    "\n",
    "def extract_table(raw_text):\n",
    "    \"\"\"\n",
    "    Extracts a table from a raw text string which may be in one of several formats:\n",
    "    - Plain text with code fences (e.g., starting with ```text and ending with ```)\n",
    "    - A JSON string that contains a \"result\" key with a table string, possibly wrapped in triple quotes.\n",
    "    \n",
    "    The table rows are expected to be separated by the literal \"<NEWLINE>\" token,\n",
    "    and each row is a pipe-separated list of fields.\n",
    "    \"\"\"\n",
    "    text = raw_text.strip()\n",
    "    \n",
    "    # --- Step 1. If the input is JSON, extract the \"result\" field ---\n",
    "    try:\n",
    "        parsed = json.loads(text)\n",
    "        if isinstance(parsed, dict) and \"result\" in parsed:\n",
    "            text = parsed[\"result\"]\n",
    "    except json.JSONDecodeError:\n",
    "        # Not valid JSON, so assume it's a plain string\n",
    "        pass\n",
    "\n",
    "    # --- Step 2. Remove markdown code fences if present ---\n",
    "    # Remove starting fence like ```text (or any language) and the ending ```\n",
    "    text = re.sub(r'^```(?:[^\\n]*)\\n', '', text)\n",
    "    text = re.sub(r'\\n```$', '', text)\n",
    "\n",
    "    # --- Step 3. Remove extra triple quotes if present ---\n",
    "    text = text.strip()\n",
    "    if text.startswith('\"\"\"') and text.endswith('\"\"\"'):\n",
    "        text = text[3:-3].strip()\n",
    "\n",
    "    # --- Step 4. Split the string into rows using the <NEWLINE> token ---\n",
    "    if \"<NEWLINE>\" in text:\n",
    "        rows = text.split(\"<NEWLINE>\")\n",
    "    else:\n",
    "        rows = text.split(\"\\n\")\n",
    "    records = []\n",
    "    for row in rows:\n",
    "        row = row.strip()\n",
    "        if not row:\n",
    "            continue\n",
    "        # Remove any leading/trailing pipes and split on \"|\"\n",
    "        # Then filter out any empty strings after stripping whitespace\n",
    "        parts = [p.strip() for p in row.strip('|').split(\"|\") if p.strip()]\n",
    "        if len(parts) >= 2:\n",
    "            key = parts[0]\n",
    "            # In case there are additional tokens, join them with \" | \" to preserve inner separators.\n",
    "            value = \" | \".join(parts[1:])\n",
    "            records.append((key, value))\n",
    "    \n",
    "    # --- Step 5. Create a DataFrame from the records ---\n",
    "    df = pd.DataFrame(records, columns=[\"Field\", \"Value\"])\n",
    "    return df\n",
    "\n",
    "# --- Example 1: Table wrapped in a markdown code fence ---\n",
    "raw_data2 = \"\"\"```text\\n| name | john \\\"jack\\\" reynolds | <NEWLINE> | birth date | 21 february 1869 | <NEWLINE> | death date | 12 march 1917 | <NEWLINE> | clubs | west bromwich albion, aston villa, celtic, southampton | <NEWLINE> | international appearances | ireland (5), england (8) | <NEWLINE> | honours | FA Cup (1892 with West Bromwich Albion), English League titles (3 with Aston Villa), FA Cups (2 with Aston Villa) | <NEWLINE> | death place | sheffield |\\n```\\n\"\"\"\n",
    "# --- Example 2: JSON string containing the table in the \"result\" key ---\n",
    "raw_data1 = \"\"\"| death place | sheffield, england | <NEWLINE> | name | jack reynolds | <NEWLINE> | death date | 12 march 1917 | <NEWLINE> | birth date | 21 february 1869 | <NEWLINE> | fullname | john reynolds |\"\"\"\n",
    "\n",
    "# --- Parse and display the tables ---\n",
    "df1 = extract_table(raw_data1)\n",
    "df2 = extract_table(raw_data2)\n",
    "\n",
    "print(\"Table from Example 1:\")\n",
    "print(df1.to_markdown(index=False))\n",
    "print(\"\\nTable from Example 2:\")\n",
    "print(df2.to_markdown(index=False))\n"
   ]
  },
  {
   "cell_type": "code",
   "execution_count": 9,
   "metadata": {},
   "outputs": [],
   "source": [
    "import json \n",
    "with open(\"/home/turning/Jainit/TANQ/EVALUATION_OF_MODELS/gemini/wikibio/top_tables_wiki.json\", \"r\") as f:\n",
    "    gt_tables = json.load(f)"
   ]
  },
  {
   "cell_type": "code",
   "execution_count": 13,
   "metadata": {},
   "outputs": [],
   "source": [
    "gt_tables_dict = {}\n",
    "for tables in gt_tables:\n",
    "    for k, v in tables.items():\n",
    "        gt_tables_dict[k] = v"
   ]
  },
  {
   "cell_type": "code",
   "execution_count": 10,
   "metadata": {},
   "outputs": [],
   "source": [
    "pred_tables = {}\n",
    "with open(\"/home/turning/Jainit/TANQ/EVALUATION_OF_MODELS/gemini/wikibio/wikibio_results.jsonl\", \"r\") as f:\n",
    "    for line in f:\n",
    "        data = json.loads(line)\n",
    "        pred_tables[data[\"key\"]] = data[\"result\"]"
   ]
  },
  {
   "cell_type": "code",
   "execution_count": 17,
   "metadata": {},
   "outputs": [],
   "source": [
    "input_tables = {}\n",
    "for k,v in gt_tables_dict.items():\n",
    "    input_tables[k] = [extract_table(v).to_markdown(index=False), extract_table(pred_tables[k]).to_markdown(index=False)]"
   ]
  },
  {
   "cell_type": "code",
   "execution_count": 19,
   "metadata": {},
   "outputs": [],
   "source": [
    "json.dump(input_tables, open(\"input_tables_for_score.json\", \"w\"))"
   ]
  },
  {
   "cell_type": "code",
   "execution_count": null,
   "metadata": {},
   "outputs": [],
   "source": []
  }
 ],
 "metadata": {
  "kernelspec": {
   "display_name": "Python 3",
   "language": "python",
   "name": "python3"
  },
  "language_info": {
   "codemirror_mode": {
    "name": "ipython",
    "version": 3
   },
   "file_extension": ".py",
   "mimetype": "text/x-python",
   "name": "python",
   "nbconvert_exporter": "python",
   "pygments_lexer": "ipython3",
   "version": "3.10.12"
  }
 },
 "nbformat": 4,
 "nbformat_minor": 2
}
