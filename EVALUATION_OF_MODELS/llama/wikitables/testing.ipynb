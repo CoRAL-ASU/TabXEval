{
 "cells": [
  {
   "cell_type": "code",
   "execution_count": 1,
   "metadata": {},
   "outputs": [],
   "source": [
    "import pickle as pkl "
   ]
  },
  {
   "cell_type": "code",
   "execution_count": 16,
   "metadata": {},
   "outputs": [],
   "source": [
    "with open(\"results_llama.pickle\", \"rb\") as f:\n",
    "    pred = pkl.load(f)"
   ]
  },
  {
   "cell_type": "code",
   "execution_count": 17,
   "metadata": {},
   "outputs": [],
   "source": [
    "pred_tables={}\n",
    "for k in pred:\n",
    "    for i in k: \n",
    "        pred_tables[i] = k[i]"
   ]
  },
  {
   "cell_type": "code",
   "execution_count": null,
   "metadata": {},
   "outputs": [],
   "source": []
  },
  {
   "cell_type": "code",
   "execution_count": 19,
   "metadata": {},
   "outputs": [],
   "source": [
    "with open(\"/home/turning/Jainit/TANQ/EVALUATION_OF_MODELS/gemini/wikitables/test.data\", \"r\") as f:\n",
    "    lines = f.readlines()"
   ]
  },
  {
   "cell_type": "code",
   "execution_count": 20,
   "metadata": {},
   "outputs": [
    {
     "data": {
      "text/plain": [
       "(2000, 2000)"
      ]
     },
     "execution_count": 20,
     "metadata": {},
     "output_type": "execute_result"
    }
   ],
   "source": [
    "len(lines), len(pred_tables)"
   ]
  },
  {
   "cell_type": "code",
   "execution_count": 21,
   "metadata": {},
   "outputs": [],
   "source": [
    "idx_to_table = {i: line for i, line in enumerate(lines)}"
   ]
  },
  {
   "cell_type": "code",
   "execution_count": 25,
   "metadata": {},
   "outputs": [],
   "source": [
    "import json"
   ]
  },
  {
   "cell_type": "code",
   "execution_count": 26,
   "metadata": {},
   "outputs": [],
   "source": [
    "import re\n",
    "import pandas as pd\n",
    "def extract_table(raw_text):\n",
    "    \"\"\"\n",
    "    Extracts a table from a raw text string which may be in one of several formats:\n",
    "    - Plain text with code fences (e.g., starting with ```text and ending with ```)\n",
    "    - A JSON string that contains a \"result\" key with a table string, possibly wrapped in triple quotes.\n",
    "    \n",
    "    The table rows are expected to be separated by the literal \"<NEWLINE>\" token,\n",
    "    and each row is a pipe-separated list of fields.\n",
    "    \"\"\"\n",
    "    text = raw_text.replace(\"Final Answer:\", \"\").strip()\n",
    "    \n",
    "    # --- Step 1. If the input is JSON, extract the \"result\" field ---\n",
    "    try:\n",
    "        parsed = json.loads(text)\n",
    "        if isinstance(parsed, dict) and \"result\" in parsed:\n",
    "            text = parsed[\"result\"]\n",
    "    except json.JSONDecodeError:\n",
    "        # Not valid JSON, so assume it's a plain string\n",
    "        pass\n",
    "\n",
    "    # --- Step 2. Remove markdown code fences if present ---\n",
    "    # Remove starting fence like ```text (or any language) and the ending ```\n",
    "    text = re.sub(r'^```(?:[^\\n]*)\\n', '', text)\n",
    "    text = re.sub(r'\\n```$', '', text)\n",
    "\n",
    "    # --- Step 3. Remove extra triple quotes if present ---\n",
    "    text = text.strip()\n",
    "    if text.startswith('\"\"\"') and text.endswith('\"\"\"'):\n",
    "        text = text[3:-3].strip()\n",
    "\n",
    "    # --- Step 4. Split the string into rows using the <NEWLINE> token ---\n",
    "    if \"<NEWLINE>\" in text:\n",
    "        rows = text.split(\"<NEWLINE>\")\n",
    "    else:\n",
    "        rows = text.split(\"\\n\")\n",
    "    records = []\n",
    "    for row in rows:\n",
    "        row = row.strip()\n",
    "        if not row:\n",
    "            continue\n",
    "        # Remove any leading/trailing pipes and split on \"|\"\n",
    "        # Then filter out any empty strings after stripping whitespace\n",
    "        parts = [p.strip() for p in row.strip('|').split(\"|\") if p.strip()]\n",
    "        if len(parts) >= 2:\n",
    "            key = parts[0]\n",
    "            # In case there are additional tokens, join them with \" | \" to preserve inner separators.\n",
    "            value = \" | \".join(parts[1:])\n",
    "            records.append((key, value))\n",
    "    \n",
    "    # --- Step 5. Create a DataFrame from the records ---\n",
    "    df = pd.DataFrame(records, columns=[\"Field\", \"Value\"])\n",
    "    return df\n"
   ]
  },
  {
   "cell_type": "code",
   "execution_count": 29,
   "metadata": {},
   "outputs": [],
   "source": [
    "input_tables = {}\n",
    "for i, table in pred_tables.items():\n",
    "    input_tables[i] = [extract_table(idx_to_table[i]).to_markdown(index = False), extract_table(table).to_markdown(index=False)]"
   ]
  },
  {
   "cell_type": "code",
   "execution_count": 34,
   "metadata": {},
   "outputs": [
    {
     "name": "stdout",
     "output_type": "stream",
     "text": [
      "| Field            | Value                              |\n",
      "|:-----------------|:-----------------------------------|\n",
      "| title            | youngstown–warren regional airport |\n",
      "| subtitle         | passenger traffic                  |\n",
      "| year             | 2015                               |\n",
      "| total passengers | 129,000                            |\n"
     ]
    }
   ],
   "source": [
    "print(input_tables[12][0])"
   ]
  },
  {
   "cell_type": "code",
   "execution_count": 35,
   "metadata": {},
   "outputs": [
    {
     "name": "stdout",
     "output_type": "stream",
     "text": [
      "| Field            | Value                              |\n",
      "|:-----------------|:-----------------------------------|\n",
      "| category         | statistics                         |\n",
      "| name             | youngstown–warren regional airport |\n",
      "| year             | 2015                               |\n",
      "| total passengers | 129,000                            |\n"
     ]
    }
   ],
   "source": [
    "print(input_tables[12][1])"
   ]
  },
  {
   "cell_type": "code",
   "execution_count": 36,
   "metadata": {},
   "outputs": [],
   "source": [
    "json.dump(input_tables, open(\"input_tables_for_score.json\", \"w\"), indent=2)"
   ]
  },
  {
   "cell_type": "code",
   "execution_count": null,
   "metadata": {},
   "outputs": [],
   "source": []
  }
 ],
 "metadata": {
  "kernelspec": {
   "display_name": "Python 3",
   "language": "python",
   "name": "python3"
  },
  "language_info": {
   "codemirror_mode": {
    "name": "ipython",
    "version": 3
   },
   "file_extension": ".py",
   "mimetype": "text/x-python",
   "name": "python",
   "nbconvert_exporter": "python",
   "pygments_lexer": "ipython3",
   "version": "3.10.12"
  }
 },
 "nbformat": 4,
 "nbformat_minor": 2
}
