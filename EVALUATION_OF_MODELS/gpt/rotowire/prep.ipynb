{
 "cells": [
  {
   "cell_type": "code",
   "execution_count": 1,
   "metadata": {},
   "outputs": [],
   "source": [
    "import json \n"
   ]
  },
  {
   "cell_type": "code",
   "execution_count": 2,
   "metadata": {},
   "outputs": [],
   "source": [
    "roto_results = json.load(open(\"rotowire_results.json\"))"
   ]
  },
  {
   "cell_type": "code",
   "execution_count": 4,
   "metadata": {},
   "outputs": [
    {
     "name": "stdout",
     "output_type": "stream",
     "text": [
      "##Team Table\n",
      "| Team   | Losses | Total points | Wins |\n",
      "|--------|--------|--------------|------|\n",
      "| Hawks  | 12     | 95           | 46   |\n",
      "| Magic  | 41     | 88           | 19   |\n",
      "\n",
      "##Player Table\n",
      "| Player        | Assists | Blocks | Points | Total rebounds | Steals |\n",
      "|---------------|---------|--------|--------|----------------|--------|\n",
      "| Al Horford    | 4       |        | 17     | 13             | 2      |\n",
      "| Jeff Teague   | 7       |        | 17     |                | 2      |\n",
      "| Nikola Vucevic|         |        | 21     | 15             |        |\n"
     ]
    }
   ],
   "source": [
    "print(list(roto_results.values())[0])"
   ]
  },
  {
   "cell_type": "code",
   "execution_count": 15,
   "metadata": {},
   "outputs": [],
   "source": [
    "import re\n",
    "\n",
    "\n",
    "def extract_tables__response(markdown_text):\n",
    "    sections = re.split(r'##\\s*', markdown_text)\n",
    "    tables = []\n",
    "    \n",
    "    for section in sections:\n",
    "        lines = section.strip().split(\"\\n\")\n",
    "        if len(lines) > 1 and \"|\" in lines[1]:\n",
    "            table_data = \"\\n\".join(lines[1:])\n",
    "            tables.append(table_data)\n",
    "    \n",
    "    return tables\n",
    "\n"
   ]
  },
  {
   "cell_type": "code",
   "execution_count": 28,
   "metadata": {},
   "outputs": [
    {
     "name": "stdout",
     "output_type": "stream",
     "text": [
      "Team Table:\n",
      "\n",
      "\n",
      "Player Table:\n",
      "| Player | Assists | Defensive rebounds | 3-pointers attempted | Field goals attempted | Field goals made | Free throws made | Minutes played | Personal fouls | Points | Total rebounds |\n",
      "| --- | --- | --- | --- | --- | --- | --- | --- | --- | --- | --- |\n",
      "| Carmelo Anthony |  | 6 |  | 36 | 18 | 6 | 46 | 6 | 45 | 6 |\n",
      "| Kristaps Porzingis |  |  |  |  |  |  |  |  | 15 |  |\n",
      "| Courtney Lee |  |  |  |  |  |  |  |  | 17 | 9 |\n",
      "| Brandon Jennings | 11 |  |  |  |  |  |  |  | 18 |  |\n",
      "| Mindaugas Kuzminskas |  |  |  | 13 |  |  |  |  | 13 |  |\n",
      "| Justin Holiday |  |  | 13 |  |  |  |  |  | 15 |  |\n",
      "| Tim Hardaway Jr. |  |  |  |  |  |  |  |  | 19 |  |\n",
      "| Paul Millsap |  |  |  |  |  |  |  |  | 37 | 19 |\n",
      "| Dwight Howard |  |  |  |  |  |  |  |  | 19 |  |\n",
      "| Kent Bazemore |  |  |  |  |  |  |  |  | 24 |  |\n",
      "| Dennis Schroder | 15 |  |  |  |  |  |  |  | 23 |  |\n",
      "| Mike Dunleavy |  |  |  |  |  |  |  |  | 12 |  |\n"
     ]
    }
   ],
   "source": [
    "def create_markdown_tables(data):\n",
    "    # Replace the custom <NEWLINE> token with actual newline characters.\n",
    "    data = data.replace(\"<NEWLINE>\", \"\\n\")\n",
    "    \n",
    "    # Split the data into sections using \"Team:\" and \"Player:\" markers.\n",
    "    sections = data.split(\"Player:\")\n",
    "    \n",
    "    # Extract team section (everything after \"Team:\" up to \"Player:\") if available.\n",
    "    team_section_raw = sections[0].split(\"Team:\")\n",
    "    team_section = team_section_raw[1].strip() if len(team_section_raw) > 1 else \"\"\n",
    "    \n",
    "    # Extract player section (everything after \"Player:\") if available.\n",
    "    player_section = sections[1].strip() if len(sections) > 1 else \"\"\n",
    "    \n",
    "    # Helper function to split a row by \"|\" while preserving empty cells.\n",
    "    def process_row(row):\n",
    "        # Split the row by the delimiter and strip whitespace from each cell.\n",
    "        cells = [cell.strip() for cell in row.split(\"|\")]\n",
    "        # Remove leading and trailing empty cells due to delimiters.\n",
    "        if cells and cells[0] == \"\":\n",
    "            cells = cells[1:]\n",
    "        if cells and cells[-1] == \"\":\n",
    "            cells = cells[:-1]\n",
    "        return cells\n",
    "    \n",
    "    # Helper function to create a markdown table from header and row cells.\n",
    "    def markdown_table(header_cells, row_cells):\n",
    "        header_row = \"| \" + \" | \".join(header_cells) + \" |\"\n",
    "        separator_row = \"| \" + \" | \".join([\"---\"] * len(header_cells)) + \" |\"\n",
    "        data_rows = [\"| \" + \" | \".join(cells) + \" |\" for cells in row_cells]\n",
    "        return \"\\n\".join([header_row, separator_row] + data_rows)\n",
    "    \n",
    "    # Process team section.\n",
    "    if team_section:\n",
    "        team_lines = [line for line in team_section.split(\"\\n\") if line.strip()]\n",
    "        if team_lines:\n",
    "            team_header = process_row(team_lines[0])\n",
    "            team_rows = [process_row(row) for row in team_lines[1:]]\n",
    "            # Set the first header cell to \"Team\"\n",
    "            if team_header:\n",
    "                team_header[0] = \"Team\"\n",
    "            team_table = markdown_table(team_header, team_rows)\n",
    "        else:\n",
    "            team_table = \"\"\n",
    "    else:\n",
    "        team_table = \"\"\n",
    "    \n",
    "    # Process player section.\n",
    "    if player_section:\n",
    "        player_lines = [line for line in player_section.split(\"\\n\") if line.strip()]\n",
    "        if player_lines:\n",
    "            player_header = process_row(player_lines[0])\n",
    "            player_rows = [process_row(row) for row in player_lines[1:]]\n",
    "            # Set the first header cell to \"Player\"\n",
    "            if player_header:\n",
    "                player_header[0] = \"Player\"\n",
    "            player_table = markdown_table(player_header, player_rows)\n",
    "        else:\n",
    "            player_table = \"\"\n",
    "    else:\n",
    "        player_table = \"\"\n",
    "    \n",
    "    return team_table, player_table\n",
    "\n",
    "# Example usage:\n",
    "data = \"\"\"Team: <NEWLINE> Player: <NEWLINE> |  | Assists | Defensive rebounds | 3-pointers attempted | Field goals attempted | Field goals made | Free throws made | Minutes played | Personal fouls | Points | Total rebounds | <NEWLINE> | Carmelo Anthony |  | 6 |  | 36 | 18 | 6 | 46 | 6 | 45 | 6 | <NEWLINE> | Kristaps Porzingis |  |  |  |  |  |  |  |  | 15 |  | <NEWLINE> | Courtney Lee |  |  |  |  |  |  |  |  | 17 | 9 | <NEWLINE> | Brandon Jennings | 11 |  |  |  |  |  |  |  | 18 |  | <NEWLINE> | Mindaugas Kuzminskas |  |  |  | 13 |  |  |  |  | 13 |  | <NEWLINE> | Justin Holiday |  |  | 13 |  |  |  |  |  | 15 |  | <NEWLINE> | Tim Hardaway Jr. |  |  |  |  |  |  |  |  | 19 |  | <NEWLINE> | Paul Millsap |  |  |  |  |  |  |  |  | 37 | 19 | <NEWLINE> | Dwight Howard |  |  |  |  |  |  |  |  | 19 |  | <NEWLINE> | Kent Bazemore |  |  |  |  |  |  |  |  | 24 |  | <NEWLINE> | Dennis Schroder | 15 |  |  |  |  |  |  |  | 23 |  | <NEWLINE> | Mike Dunleavy |  |  |  |  |  |  |  |  | 12 |  |\"\"\"\n",
    "team_table, player_table = create_markdown_tables(data)\n",
    "print(\"Team Table:\")\n",
    "print(team_table)\n",
    "print(\"\\nPlayer Table:\")\n",
    "print(player_table)\n"
   ]
  },
  {
   "cell_type": "code",
   "execution_count": 29,
   "metadata": {},
   "outputs": [],
   "source": [
    "with open(\"test.text\", \"r\") as f:\n",
    "    roto_text = f.read().split(\"\\n\")[:-1]"
   ]
  },
  {
   "cell_type": "code",
   "execution_count": 30,
   "metadata": {},
   "outputs": [],
   "source": [
    "with open('test.data') as f:\n",
    "    roto_tables = f.read().split(\"\\n\")[:-1]"
   ]
  },
  {
   "cell_type": "code",
   "execution_count": 31,
   "metadata": {},
   "outputs": [],
   "source": [
    "roto_gold = {roto_text[i]: roto_tables[i] for i in range(len(roto_text))}"
   ]
  },
  {
   "cell_type": "code",
   "execution_count": 36,
   "metadata": {},
   "outputs": [],
   "source": [
    "\n",
    "input_tables = {}\n",
    "for text, tables in roto_results.items():\n",
    "    team_table, player_table = create_markdown_tables(roto_gold[text])\n",
    "    team_pred_table, player_pred_table = extract_tables__response(tables)\n",
    "    input_tables[text] = {\"gold_team\": team_table, \"gold_player\": player_table,\n",
    "                          \"pred_team\": team_pred_table, \"pred_player\": player_pred_table}"
   ]
  },
  {
   "cell_type": "code",
   "execution_count": 38,
   "metadata": {},
   "outputs": [],
   "source": [
    "idx_to_table_id = {}\n",
    "tabscore = {}\n",
    "ii=0\n",
    "for text, tables in input_tables.items():\n",
    "    if tables['gold_team'] and tables['pred_team']:\n",
    "        \n",
    "        tabscore[ii] = [tables['gold_team'], tables['pred_team']]\n",
    "        idx_to_table_id[ii] = text+\"$$TEAM\"\n",
    "        ii+=1\n",
    "    if tables['gold_player'] and tables['pred_player']:\n",
    "        tabscore[ii] = [tables['gold_player'], tables['pred_player']]\n",
    "        idx_to_table_id[ii] = text+\"$$PLAYER\"\n",
    "        ii+=1\n",
    "\n",
    "    "
   ]
  },
  {
   "cell_type": "code",
   "execution_count": 40,
   "metadata": {},
   "outputs": [],
   "source": [
    "json.dump(tabscore, open(\"tabscore_input.json\", \"w\"))\n",
    "json.dump(idx_to_table_id, open(\"idx_to_table_id.json\", \"w\"))"
   ]
  },
  {
   "cell_type": "code",
   "execution_count": 47,
   "metadata": {},
   "outputs": [],
   "source": [
    "import pickle as pkl \n",
    "results = pkl.load(open(\"/home/turning/Jainit/TANQ/EVALUATION_OF_MODELS/gpt/rotowire/tabscore_results.pkl\", \"rb\"))"
   ]
  },
  {
   "cell_type": "code",
   "execution_count": null,
   "metadata": {},
   "outputs": [],
   "source": []
  },
  {
   "cell_type": "code",
   "execution_count": null,
   "metadata": {},
   "outputs": [],
   "source": []
  }
 ],
 "metadata": {
  "kernelspec": {
   "display_name": "Python 3",
   "language": "python",
   "name": "python3"
  },
  "language_info": {
   "codemirror_mode": {
    "name": "ipython",
    "version": 3
   },
   "file_extension": ".py",
   "mimetype": "text/x-python",
   "name": "python",
   "nbconvert_exporter": "python",
   "pygments_lexer": "ipython3",
   "version": "3.10.12"
  }
 },
 "nbformat": 4,
 "nbformat_minor": 2
}
