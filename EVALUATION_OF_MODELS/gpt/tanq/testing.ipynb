{
 "cells": [
  {
   "cell_type": "code",
   "execution_count": 4,
   "metadata": {},
   "outputs": [],
   "source": [
    "import json "
   ]
  },
  {
   "cell_type": "code",
   "execution_count": 5,
   "metadata": {},
   "outputs": [],
   "source": [
    "data1 = json.load(open(\"/home/turning/Jainit/TANQ/prompt_files/oracle_gemini/output/oracle_gemini_results.json\"))"
   ]
  },
  {
   "cell_type": "code",
   "execution_count": 6,
   "metadata": {},
   "outputs": [
    {
     "data": {
      "text/plain": [
       "dict_keys(['init_qid', 'answer_table', 'ext_question_rephrased', 'predicted_table'])"
      ]
     },
     "execution_count": 6,
     "metadata": {},
     "output_type": "execute_result"
    }
   ],
   "source": [
    "data1[0].keys()"
   ]
  },
  {
   "cell_type": "code",
   "execution_count": 7,
   "metadata": {},
   "outputs": [],
   "source": [
    "data2 = json.load(open(\"/home/turning/Jainit/TANQ/EVALUATION_OF_MODELS/gpt/tanq/results_oracle.json\"))"
   ]
  },
  {
   "cell_type": "code",
   "execution_count": 15,
   "metadata": {},
   "outputs": [],
   "source": [
    "for i, d in enumerate(data2): \n",
    "    for e in data1: \n",
    "        if d['uid']==e['init_qid']:\n",
    "            data2[i]['answer_table'] = e['answer_table']"
   ]
  },
  {
   "cell_type": "code",
   "execution_count": 18,
   "metadata": {},
   "outputs": [],
   "source": [
    "json.dump(data2, open(\"/home/turning/Jainit/TANQ/EVALUATION_OF_MODELS/gpt/tanq/results_oracle.json\", \"w\"), indent=2)"
   ]
  },
  {
   "cell_type": "code",
   "execution_count": 17,
   "metadata": {},
   "outputs": [],
   "source": [
    "input_tables = {}\n",
    "\n",
    "for idx, d in enumerate(data2):\n",
    "    if \"answer_table\" not in d:\n",
    "        if d['uid'] == a1:\n",
    "            data2[idx]['answer_table'] = answer_table1\n",
    "        elif d['uid'] == a2:\n",
    "            data2[idx]['answer_table'] = answer_table2\n",
    "    \n",
    "    input_tables[d['uid']] = [d['answer_table'], d['response']]"
   ]
  },
  {
   "cell_type": "code",
   "execution_count": 19,
   "metadata": {},
   "outputs": [],
   "source": [
    "json.dump(input_tables, open(\"/home/turning/Jainit/TANQ/EVALUATION_OF_MODELS/gpt/tanq/input_tables_for_score.json\", \"w\"), indent=2)"
   ]
  },
  {
   "cell_type": "code",
   "execution_count": null,
   "metadata": {},
   "outputs": [],
   "source": []
  }
 ],
 "metadata": {
  "kernelspec": {
   "display_name": "Python 3",
   "language": "python",
   "name": "python3"
  },
  "language_info": {
   "codemirror_mode": {
    "name": "ipython",
    "version": 3
   },
   "file_extension": ".py",
   "mimetype": "text/x-python",
   "name": "python",
   "nbconvert_exporter": "python",
   "pygments_lexer": "ipython3",
   "version": "3.10.12"
  }
 },
 "nbformat": 4,
 "nbformat_minor": 2
}
